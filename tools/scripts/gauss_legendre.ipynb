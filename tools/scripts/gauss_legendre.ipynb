{
 "cells": [
  {
   "cell_type": "markdown",
   "metadata": {},
   "source": [
    "## Compute Gauss-Legendre abscissas and weights"
   ]
  },
  {
   "cell_type": "code",
   "execution_count": 9,
   "metadata": {},
   "outputs": [
    {
     "name": "stdout",
     "output_type": "stream",
     "text": [
      "GaussXk = (/ &\n",
      "-0.98799251802, &\n",
      "-0.937273392401, &\n",
      "-0.84820658341, &\n",
      "-0.72441773136, &\n",
      "-0.570972172609, &\n",
      "-0.394151347078, &\n",
      "-0.201194093997, &\n",
      "0.0, &\n",
      "0.201194093997, &\n",
      "0.394151347078, &\n",
      "0.570972172609, &\n",
      "0.72441773136, &\n",
      "0.84820658341, &\n",
      "0.937273392401, &\n",
      "0.98799251802, &\n"
     ]
    }
   ],
   "source": [
    "from scipy.special import roots_legendre, eval_legendre\n",
    "qorder=15\n",
    "roots, weights = roots_legendre(qorder)\n",
    "print(\"GaussXk = (/ &\")\n",
    "for r in roots:\n",
    "    print(r,end=\", &\\n\")"
   ]
  },
  {
   "cell_type": "code",
   "execution_count": null,
   "metadata": {},
   "outputs": [],
   "source": []
  }
 ],
 "metadata": {
  "kernelspec": {
   "display_name": "Python 3",
   "language": "python",
   "name": "python3"
  },
  "language_info": {
   "codemirror_mode": {
    "name": "ipython",
    "version": 3
   },
   "file_extension": ".py",
   "mimetype": "text/x-python",
   "name": "python",
   "nbconvert_exporter": "python",
   "pygments_lexer": "ipython3",
   "version": "3.6.9"
  }
 },
 "nbformat": 4,
 "nbformat_minor": 4
}
